{
 "cells": [
  {
   "cell_type": "code",
   "execution_count": 2,
   "id": "b4fa9d23-d72b-4186-9503-f72acc8fa0ee",
   "metadata": {},
   "outputs": [
    {
     "name": "stdout",
     "output_type": "stream",
     "text": [
      "Collecting numpy\n",
      "  Downloading numpy-2.2.6-cp310-cp310-win_amd64.whl (12.9 MB)\n",
      "     ---------------------------------------- 12.9/12.9 MB 4.3 MB/s eta 0:00:00\n",
      "Installing collected packages: numpy\n",
      "Successfully installed numpy-2.2.6\n",
      "Note: you may need to restart the kernel to use updated packages.\n"
     ]
    },
    {
     "name": "stderr",
     "output_type": "stream",
     "text": [
      "\n",
      "[notice] A new release of pip available: 22.2.2 -> 25.2\n",
      "[notice] To update, run: python.exe -m pip install --upgrade pip\n"
     ]
    }
   ],
   "source": [
    "pip install numpy"
   ]
  },
  {
   "cell_type": "code",
   "execution_count": 5,
   "id": "3a7714b3-2c4b-4bb5-9f47-68e4fd192c15",
   "metadata": {},
   "outputs": [
    {
     "name": "stdout",
     "output_type": "stream",
     "text": [
      "Collecting matplotlib\n",
      "  Downloading matplotlib-3.10.6-cp310-cp310-win_amd64.whl (8.1 MB)\n",
      "     ---------------------------------------- 8.1/8.1 MB 3.3 MB/s eta 0:00:00\n",
      "Collecting kiwisolver>=1.3.1\n",
      "  Downloading kiwisolver-1.4.9-cp310-cp310-win_amd64.whl (73 kB)\n",
      "     ---------------------------------------- 73.7/73.7 kB 2.0 MB/s eta 0:00:00\n",
      "Requirement already satisfied: numpy>=1.23 in c:\\users\\nages\\verilog_projects\\venv\\lib\\site-packages (from matplotlib) (2.2.6)\n",
      "Collecting cycler>=0.10\n",
      "  Downloading cycler-0.12.1-py3-none-any.whl (8.3 kB)\n",
      "Requirement already satisfied: packaging>=20.0 in c:\\users\\nages\\verilog_projects\\venv\\lib\\site-packages (from matplotlib) (25.0)\n",
      "Requirement already satisfied: python-dateutil>=2.7 in c:\\users\\nages\\verilog_projects\\venv\\lib\\site-packages (from matplotlib) (2.9.0.post0)\n",
      "Collecting contourpy>=1.0.1\n",
      "  Downloading contourpy-1.3.2-cp310-cp310-win_amd64.whl (221 kB)\n",
      "     -------------------------------------- 221.2/221.2 kB 1.9 MB/s eta 0:00:00\n",
      "Collecting pillow>=8\n",
      "  Downloading pillow-11.3.0-cp310-cp310-win_amd64.whl (7.0 MB)\n",
      "     ---------------------------------------- 7.0/7.0 MB 2.7 MB/s eta 0:00:00\n",
      "Collecting pyparsing>=2.3.1\n",
      "  Downloading pyparsing-3.2.3-py3-none-any.whl (111 kB)\n",
      "     -------------------------------------- 111.1/111.1 kB 6.3 MB/s eta 0:00:00\n",
      "Collecting fonttools>=4.22.0\n",
      "  Downloading fonttools-4.59.2-cp310-cp310-win_amd64.whl (2.3 MB)\n",
      "     ---------------------------------------- 2.3/2.3 MB 3.1 MB/s eta 0:00:00\n",
      "Requirement already satisfied: six>=1.5 in c:\\users\\nages\\verilog_projects\\venv\\lib\\site-packages (from python-dateutil>=2.7->matplotlib) (1.17.0)\n",
      "Installing collected packages: pyparsing, pillow, kiwisolver, fonttools, cycler, contourpy, matplotlib\n",
      "Successfully installed contourpy-1.3.2 cycler-0.12.1 fonttools-4.59.2 kiwisolver-1.4.9 matplotlib-3.10.6 pillow-11.3.0 pyparsing-3.2.3\n",
      "Note: you may need to restart the kernel to use updated packages.\n"
     ]
    },
    {
     "name": "stderr",
     "output_type": "stream",
     "text": [
      "\n",
      "[notice] A new release of pip available: 22.2.2 -> 25.2\n",
      "[notice] To update, run: python.exe -m pip install --upgrade pip\n"
     ]
    }
   ],
   "source": [
    "pip install matplotlib"
   ]
  },
  {
   "cell_type": "code",
   "execution_count": 6,
   "id": "33ed3a27",
   "metadata": {
    "vscode": {
     "languageId": "plaintext"
    }
   },
   "outputs": [
    {
     "data": {
      "image/png": "[encoded data removed]",
      "text/plain": [
       "<Figure size 640x480 with 1 Axes>"
      ]
     },
     "metadata": {},
     "output_type": "display_data"
    }
   ],
   "source": [
    "import numpy as np\n",
    "import matplotlib.pyplot as plt\n",
    "\n",
    "# Create a sample signal (sum of two sine waves)\n",
    "Fs = 1000   # Sampling frequency\n",
    "T = 1/Fs\n",
    "t = np.arange(0,1,T)\n",
    "f1, f2 = 50, 150  # Frequencies\n",
    "\n",
    "signal = np.sin(2*np.pi*f1*t) + 0.5*np.sin(2*np.pi*f2*t)\n",
    "\n",
    "# FFT\n",
    "fft_vals = np.fft.fft(signal)\n",
    "fft_freqs = np.fft.fftfreq(len(fft_vals), T)\n",
    "\n",
    "# Plot\n",
    "plt.plot(fft_freqs[:len(fft_freqs)//2], np.abs(fft_vals)[:len(fft_vals)//2])\n",
    "plt.title(\"FFT of Signal\")\n",
    "plt.xlabel(\"Frequency (Hz)\")\n",
    "plt.ylabel(\"Magnitude\")\n",
    "plt.show()\n"
   ]
  },
  {
   "cell_type": "code",
   "execution_count": 7,
   "id": "300f0216-ee24-4ca4-9fd5-b2c35d3eb6a4",
   "metadata": {},
   "outputs": [
    {
     "name": "stdout",
     "output_type": "stream",
     "text": [
      "Reference FFT (Python):\n",
      "(36+0j)\n",
      "(-4+9.65685424949238j)\n",
      "(-4+4j)\n",
      "(-4+1.6568542494923806j)\n",
      "(-4+0j)\n",
      "(-4-1.6568542494923806j)\n",
      "(-4-4j)\n",
      "(-4-9.65685424949238j)\n"
     ]
    }
   ],
   "source": [
    "import numpy as np\n",
    "\n",
    "# Test input sequence (your hardware input samples)\n",
    "N = 8\n",
    "x = [1,2,3,4,5,6,7,8]  # or any test vector\n",
    "\n",
    "# Compute FFT using NumPy\n",
    "fft_ref = np.fft.fft(x)\n",
    "\n",
    "print(\"Reference FFT (Python):\")\n",
    "for val in fft_ref:\n",
    "    print(val)\n"
   ]
  },
  {
   "cell_type": "code",
   "execution_count": 8,
   "id": "3c66a31d-b3ea-46b6-9121-af8cc192d10f",
   "metadata": {},
   "outputs": [
    {
     "name": "stdout",
     "output_type": "stream",
     "text": [
      "Hardware input words: ['0x8000', '0x0', '0x0', '0x0', '0x0', '0x0', '0x0', '0x0', '0x0', '0x0', '0x0', '0x0', '0x0', '0x0', '0x0', '0x0', '0x0', '0x0', '0x0', '0x0', '0x0', '0x0', '0x0', '0x0', '0x0', '0x0', '0x0', '0x0', '0x0', '0x0', '0x0', '0x0', '0x0', '0x0', '0x0', '0x0', '0x0', '0x0', '0x0', '0x0', '0x0', '0x0', '0x0', '0x0', '0x0', '0x0', '0x0', '0x0', '0x0', '0x0', '0x0', '0x0', '0x0', '0x0', '0x0', '0x0', '0x0', '0x0', '0x0', '0x0', '0x0', '0x0', '0x0', '0x0']\n",
      "Expected FFT outputs: ['0x8000', '0x8000', '0x8000', '0x8000', '0x8000', '0x8000', '0x8000', '0x8000', '0x8000', '0x8000', '0x8000', '0x8000', '0x8000', '0x8000', '0x8000', '0x8000', '0x8000', '0x8000', '0x8000', '0x8000', '0x8000', '0x8000', '0x8000', '0x8000', '0x8000', '0x8000', '0x8000', '0x8000', '0x8000', '0x8000', '0x8000', '0x8000', '0x8000', '0x8000', '0x8000', '0x8000', '0x8000', '0x8000', '0x8000', '0x8000', '0x8000', '0x8000', '0x8000', '0x8000', '0x8000', '0x8000', '0x8000', '0x8000', '0x8000', '0x8000', '0x8000', '0x8000', '0x8000', '0x8000', '0x8000', '0x8000', '0x8000', '0x8000', '0x8000', '0x8000', '0x8000', '0x8000', '0x8000', '0x8000']\n"
     ]
    }
   ],
   "source": [
    "import numpy as np\n",
    "\n",
    "# -------- Test vector (64 samples) ----------\n",
    "# Example 1: impulse (easy sanity check)\n",
    "x = np.zeros(64, dtype=np.complex64)\n",
    "x[0] = 1.0 + 0.0j   # impulse at n=0\n",
    "\n",
    "# Example 2: ramp (more complex)\n",
    "# x = np.array([complex(k,0) for k in range(64)], dtype=np.complex64)\n",
    "\n",
    "# -------- Compute FFT --------\n",
    "fft_out = np.fft.fft(x)\n",
    "\n",
    "# -------- Fixed-point conversion (Q1.15 for each part) --------\n",
    "def float_to_fixed(val, bits=16, frac=15):\n",
    "    return int(np.round(val * (1<<frac))) & ((1<<bits)-1)\n",
    "\n",
    "def complex_to_hw(val):\n",
    "    real = float_to_fixed(val.real)\n",
    "    imag = float_to_fixed(val.imag)\n",
    "    return (imag<<16) | (real & 0xFFFF)\n",
    "\n",
    "# Pack values for feeding hardware\n",
    "hw_inputs = [complex_to_hw(v) for v in x]\n",
    "hw_outputs = [complex_to_hw(v) for v in fft_out]\n",
    "\n",
    "print(\"Hardware input words:\", [hex(v) for v in hw_inputs])\n",
    "print(\"Expected FFT outputs:\", [hex(v) for v in hw_outputs])\n"
   ]
  },
  {
   "cell_type": "code",
   "execution_count": 10,
   "id": "42cd02f9-85c9-4ff9-b44e-5bd7bda85895",
   "metadata": {},
   "outputs": [],
   "source": [
    "import numpy as np\n",
    "\n",
    "# Path\n",
    "path = r\"C:\\Users\\nages\\verilog_projects\\FFT64Bit1Ver\"\n",
    "\n",
    "# -------- Generate input.hex --------\n",
    "N = 64\n",
    "n = np.arange(N)\n",
    "x = np.exp(2j * np.pi * n / N)   # test signal\n",
    "\n",
    "def float_to_fixed(val, bits=16):\n",
    "    val_int = int(np.round(val * (2**(bits-1)-1)))\n",
    "    if val_int < 0:\n",
    "        val_int = (1 << bits) + val_int\n",
    "    return val_int & ((1<<bits)-1)\n",
    "\n",
    "with open(path + r\"\\input.hex\", \"w\") as f:\n",
    "    for v in x:\n",
    "        re = float_to_fixed(v.real)\n",
    "        im = float_to_fixed(v.imag)\n",
    "        word = (im << 16) | re\n",
    "        f.write(f\"{word:08X}\\n\")\n"
   ]
  },
  {
   "cell_type": "code",
   "execution_count": 11,
   "id": "4f9650a5-f33f-44c7-8595-71cb4c95b2ef",
   "metadata": {},
   "outputs": [
    {
     "ename": "FileNotFoundError",
     "evalue": "[Errno 2] No such file or directory: 'C:\\\\Users\\\\nages\\\\verilog_projects\\\\FFT64Bit1Ver\\\\output.hex'",
     "output_type": "error",
     "traceback": [
      "\u001b[1;31m---------------------------------------------------------------------------\u001b[0m",
      "\u001b[1;31mFileNotFoundError\u001b[0m                         Traceback (most recent call last)",
      "Cell \u001b[1;32mIn[11], line 2\u001b[0m\n\u001b[0;32m      1\u001b[0m output_vals \u001b[38;5;241m=\u001b[39m []\n\u001b[1;32m----> 2\u001b[0m \u001b[38;5;28;01mwith\u001b[39;00m \u001b[38;5;28;43mopen\u001b[39;49m\u001b[43m(\u001b[49m\u001b[43mpath\u001b[49m\u001b[43m \u001b[49m\u001b[38;5;241;43m+\u001b[39;49m\u001b[43m \u001b[49m\u001b[38;5;124;43mr\u001b[39;49m\u001b[38;5;124;43m\"\u001b[39;49m\u001b[38;5;124;43m\\\u001b[39;49m\u001b[38;5;124;43moutput.hex\u001b[39;49m\u001b[38;5;124;43m\"\u001b[39;49m\u001b[43m,\u001b[49m\u001b[43m \u001b[49m\u001b[38;5;124;43m\"\u001b[39;49m\u001b[38;5;124;43mr\u001b[39;49m\u001b[38;5;124;43m\"\u001b[39;49m\u001b[43m)\u001b[49m \u001b[38;5;28;01mas\u001b[39;00m f:\n\u001b[0;32m      3\u001b[0m     \u001b[38;5;28;01mfor\u001b[39;00m line \u001b[38;5;129;01min\u001b[39;00m f:\n\u001b[0;32m      4\u001b[0m         word \u001b[38;5;241m=\u001b[39m \u001b[38;5;28mint\u001b[39m(line\u001b[38;5;241m.\u001b[39mstrip(), \u001b[38;5;241m16\u001b[39m)\n",
      "File \u001b[1;32m~\\verilog_projects\\venv\\lib\\site-packages\\IPython\\core\\interactiveshell.py:284\u001b[0m, in \u001b[0;36m_modified_open\u001b[1;34m(file, *args, **kwargs)\u001b[0m\n\u001b[0;32m    277\u001b[0m \u001b[38;5;28;01mif\u001b[39;00m file \u001b[38;5;129;01min\u001b[39;00m {\u001b[38;5;241m0\u001b[39m, \u001b[38;5;241m1\u001b[39m, \u001b[38;5;241m2\u001b[39m}:\n\u001b[0;32m    278\u001b[0m     \u001b[38;5;28;01mraise\u001b[39;00m \u001b[38;5;167;01mValueError\u001b[39;00m(\n\u001b[0;32m    279\u001b[0m         \u001b[38;5;124mf\u001b[39m\u001b[38;5;124m\"\u001b[39m\u001b[38;5;124mIPython won\u001b[39m\u001b[38;5;124m'\u001b[39m\u001b[38;5;124mt let you open fd=\u001b[39m\u001b[38;5;132;01m{\u001b[39;00mfile\u001b[38;5;132;01m}\u001b[39;00m\u001b[38;5;124m by default \u001b[39m\u001b[38;5;124m\"\u001b[39m\n\u001b[0;32m    280\u001b[0m         \u001b[38;5;124m\"\u001b[39m\u001b[38;5;124mas it is likely to crash IPython. If you know what you are doing, \u001b[39m\u001b[38;5;124m\"\u001b[39m\n\u001b[0;32m    281\u001b[0m         \u001b[38;5;124m\"\u001b[39m\u001b[38;5;124myou can use builtins\u001b[39m\u001b[38;5;124m'\u001b[39m\u001b[38;5;124m open.\u001b[39m\u001b[38;5;124m\"\u001b[39m\n\u001b[0;32m    282\u001b[0m     )\n\u001b[1;32m--> 284\u001b[0m \u001b[38;5;28;01mreturn\u001b[39;00m io_open(file, \u001b[38;5;241m*\u001b[39margs, \u001b[38;5;241m*\u001b[39m\u001b[38;5;241m*\u001b[39mkwargs)\n",
      "\u001b[1;31mFileNotFoundError\u001b[0m: [Errno 2] No such file or directory: 'C:\\\\Users\\\\nages\\\\verilog_projects\\\\FFT64Bit1Ver\\\\output.hex'"
     ]
    }
   ],
   "source": [
    "output_vals = []\n",
    "with open(path + r\"\\output.hex\", \"r\") as f:\n",
    "    for line in f:\n",
    "        word = int(line.strip(), 16)\n",
    "        re = np.int16(word & 0xFFFF)\n",
    "        im = np.int16(word >> 16)\n",
    "        output_vals.append(re + 1j*im)\n",
    "output_vals = np.array(output_vals)\n",
    "\n",
    "# Reference FFT\n",
    "ref_fft = np.fft.fft(x)\n",
    "\n",
    "# Difference\n",
    "print(\"Max abs difference:\", np.max(np.abs(output_vals - ref_fft)))\n"
   ]
  },
  {
   "cell_type": "code",
   "execution_count": null,
   "id": "29771ae3-772c-43b2-904b-653107799585",
   "metadata": {},
   "outputs": [],
   "source": []
  }
 ],
 "metadata": {
  "kernelspec": {
   "display_name": "Python 3 (ipykernel)",
   "language": "python",
   "name": "python3"
  },
  "language_info": {
   "codemirror_mode": {
    "name": "ipython",
    "version": 3
   },
   "file_extension": ".py",
   "mimetype": "text/x-python",
   "name": "python",
   "nbconvert_exporter": "python",
   "pygments_lexer": "ipython3",
   "version": "3.10.7"
  }
 },
 "nbformat": 4,
 "nbformat_minor": 5
}
